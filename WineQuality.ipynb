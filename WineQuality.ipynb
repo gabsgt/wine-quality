{
  "nbformat": 4,
  "nbformat_minor": 0,
  "metadata": {
    "colab": {
      "name": "WineQuality.ipynb",
      "provenance": [],
      "mount_file_id": "1PmEB_fvaE_GkEA8IySaXa4IzECCUSoEF",
      "authorship_tag": "ABX9TyNLck9saVoeq+xfrf35Kxsi",
      "include_colab_link": true
    },
    "kernelspec": {
      "name": "python3",
      "display_name": "Python 3"
    },
    "language_info": {
      "name": "python"
    }
  },
  "cells": [
    {
      "cell_type": "markdown",
      "metadata": {
        "id": "view-in-github",
        "colab_type": "text"
      },
      "source": [
        "<a href=\"https://colab.research.google.com/github/gabsgt/wine-quality/blob/main/WineQuality.ipynb\" target=\"_parent\"><img src=\"https://colab.research.google.com/assets/colab-badge.svg\" alt=\"Open In Colab\"/></a>"
      ]
    },
    {
      "cell_type": "markdown",
      "metadata": {
        "id": "v_UmXPmhaZ5v"
      },
      "source": [
        "### Objective\n",
        "Classify wine based on their quality."
      ]
    },
    {
      "cell_type": "markdown",
      "metadata": {
        "id": "mIUlvlHaYQj3"
      },
      "source": [
        "### Libraries"
      ]
    },
    {
      "cell_type": "code",
      "metadata": {
        "id": "gzPvyntUXijj"
      },
      "source": [
        "import pandas as pd\n",
        "import matplotlib.pyplot as plt\n",
        "import numpy as np\n",
        "import seaborn as sns\n",
        "from scipy import stats\n",
        "\n",
        "from sklearn.preprocessing import StandardScaler\n",
        "from sklearn.decomposition import PCA\n",
        "from sklearn.cluster import KMeans"
      ],
      "execution_count": 45,
      "outputs": []
    },
    {
      "cell_type": "markdown",
      "metadata": {
        "id": "R4oEpuAYYUuy"
      },
      "source": [
        "### Load datasets"
      ]
    },
    {
      "cell_type": "code",
      "metadata": {
        "colab": {
          "base_uri": "https://localhost:8080/",
          "height": 204
        },
        "id": "ojuWYhugXkGz",
        "outputId": "1ec300fc-e9bd-4882-cdef-b87e51b5c93e"
      },
      "source": [
        "url_data = '/content/drive/MyDrive/Profissional & Estudos/Datasets/Wine Quality/winequality-red.csv'\n",
        "data_red = pd.read_csv(url_data, sep=';')\n",
        "data_red.head()"
      ],
      "execution_count": 5,
      "outputs": [
        {
          "output_type": "execute_result",
          "data": {
            "text/html": [
              "<div>\n",
              "<style scoped>\n",
              "    .dataframe tbody tr th:only-of-type {\n",
              "        vertical-align: middle;\n",
              "    }\n",
              "\n",
              "    .dataframe tbody tr th {\n",
              "        vertical-align: top;\n",
              "    }\n",
              "\n",
              "    .dataframe thead th {\n",
              "        text-align: right;\n",
              "    }\n",
              "</style>\n",
              "<table border=\"1\" class=\"dataframe\">\n",
              "  <thead>\n",
              "    <tr style=\"text-align: right;\">\n",
              "      <th></th>\n",
              "      <th>fixed acidity</th>\n",
              "      <th>volatile acidity</th>\n",
              "      <th>citric acid</th>\n",
              "      <th>residual sugar</th>\n",
              "      <th>chlorides</th>\n",
              "      <th>free sulfur dioxide</th>\n",
              "      <th>total sulfur dioxide</th>\n",
              "      <th>density</th>\n",
              "      <th>pH</th>\n",
              "      <th>sulphates</th>\n",
              "      <th>alcohol</th>\n",
              "      <th>quality</th>\n",
              "    </tr>\n",
              "  </thead>\n",
              "  <tbody>\n",
              "    <tr>\n",
              "      <th>0</th>\n",
              "      <td>7.4</td>\n",
              "      <td>0.70</td>\n",
              "      <td>0.00</td>\n",
              "      <td>1.9</td>\n",
              "      <td>0.076</td>\n",
              "      <td>11.0</td>\n",
              "      <td>34.0</td>\n",
              "      <td>0.9978</td>\n",
              "      <td>3.51</td>\n",
              "      <td>0.56</td>\n",
              "      <td>9.4</td>\n",
              "      <td>5</td>\n",
              "    </tr>\n",
              "    <tr>\n",
              "      <th>1</th>\n",
              "      <td>7.8</td>\n",
              "      <td>0.88</td>\n",
              "      <td>0.00</td>\n",
              "      <td>2.6</td>\n",
              "      <td>0.098</td>\n",
              "      <td>25.0</td>\n",
              "      <td>67.0</td>\n",
              "      <td>0.9968</td>\n",
              "      <td>3.20</td>\n",
              "      <td>0.68</td>\n",
              "      <td>9.8</td>\n",
              "      <td>5</td>\n",
              "    </tr>\n",
              "    <tr>\n",
              "      <th>2</th>\n",
              "      <td>7.8</td>\n",
              "      <td>0.76</td>\n",
              "      <td>0.04</td>\n",
              "      <td>2.3</td>\n",
              "      <td>0.092</td>\n",
              "      <td>15.0</td>\n",
              "      <td>54.0</td>\n",
              "      <td>0.9970</td>\n",
              "      <td>3.26</td>\n",
              "      <td>0.65</td>\n",
              "      <td>9.8</td>\n",
              "      <td>5</td>\n",
              "    </tr>\n",
              "    <tr>\n",
              "      <th>3</th>\n",
              "      <td>11.2</td>\n",
              "      <td>0.28</td>\n",
              "      <td>0.56</td>\n",
              "      <td>1.9</td>\n",
              "      <td>0.075</td>\n",
              "      <td>17.0</td>\n",
              "      <td>60.0</td>\n",
              "      <td>0.9980</td>\n",
              "      <td>3.16</td>\n",
              "      <td>0.58</td>\n",
              "      <td>9.8</td>\n",
              "      <td>6</td>\n",
              "    </tr>\n",
              "    <tr>\n",
              "      <th>4</th>\n",
              "      <td>7.4</td>\n",
              "      <td>0.70</td>\n",
              "      <td>0.00</td>\n",
              "      <td>1.9</td>\n",
              "      <td>0.076</td>\n",
              "      <td>11.0</td>\n",
              "      <td>34.0</td>\n",
              "      <td>0.9978</td>\n",
              "      <td>3.51</td>\n",
              "      <td>0.56</td>\n",
              "      <td>9.4</td>\n",
              "      <td>5</td>\n",
              "    </tr>\n",
              "  </tbody>\n",
              "</table>\n",
              "</div>"
            ],
            "text/plain": [
              "   fixed acidity  volatile acidity  citric acid  ...  sulphates  alcohol  quality\n",
              "0            7.4              0.70         0.00  ...       0.56      9.4        5\n",
              "1            7.8              0.88         0.00  ...       0.68      9.8        5\n",
              "2            7.8              0.76         0.04  ...       0.65      9.8        5\n",
              "3           11.2              0.28         0.56  ...       0.58      9.8        6\n",
              "4            7.4              0.70         0.00  ...       0.56      9.4        5\n",
              "\n",
              "[5 rows x 12 columns]"
            ]
          },
          "metadata": {},
          "execution_count": 5
        }
      ]
    },
    {
      "cell_type": "code",
      "metadata": {
        "colab": {
          "base_uri": "https://localhost:8080/",
          "height": 204
        },
        "id": "x1PrpT8RXwsF",
        "outputId": "83f89451-dfcc-4a87-a722-6f38c0013128"
      },
      "source": [
        "url_data = '/content/drive/MyDrive/Profissional & Estudos/Datasets/Wine Quality/winequality-white.csv'\n",
        "data_white = pd.read_csv(url_data, sep=';')\n",
        "data_white.head()"
      ],
      "execution_count": 6,
      "outputs": [
        {
          "output_type": "execute_result",
          "data": {
            "text/html": [
              "<div>\n",
              "<style scoped>\n",
              "    .dataframe tbody tr th:only-of-type {\n",
              "        vertical-align: middle;\n",
              "    }\n",
              "\n",
              "    .dataframe tbody tr th {\n",
              "        vertical-align: top;\n",
              "    }\n",
              "\n",
              "    .dataframe thead th {\n",
              "        text-align: right;\n",
              "    }\n",
              "</style>\n",
              "<table border=\"1\" class=\"dataframe\">\n",
              "  <thead>\n",
              "    <tr style=\"text-align: right;\">\n",
              "      <th></th>\n",
              "      <th>fixed acidity</th>\n",
              "      <th>volatile acidity</th>\n",
              "      <th>citric acid</th>\n",
              "      <th>residual sugar</th>\n",
              "      <th>chlorides</th>\n",
              "      <th>free sulfur dioxide</th>\n",
              "      <th>total sulfur dioxide</th>\n",
              "      <th>density</th>\n",
              "      <th>pH</th>\n",
              "      <th>sulphates</th>\n",
              "      <th>alcohol</th>\n",
              "      <th>quality</th>\n",
              "    </tr>\n",
              "  </thead>\n",
              "  <tbody>\n",
              "    <tr>\n",
              "      <th>0</th>\n",
              "      <td>7.0</td>\n",
              "      <td>0.27</td>\n",
              "      <td>0.36</td>\n",
              "      <td>20.7</td>\n",
              "      <td>0.045</td>\n",
              "      <td>45.0</td>\n",
              "      <td>170.0</td>\n",
              "      <td>1.0010</td>\n",
              "      <td>3.00</td>\n",
              "      <td>0.45</td>\n",
              "      <td>8.8</td>\n",
              "      <td>6</td>\n",
              "    </tr>\n",
              "    <tr>\n",
              "      <th>1</th>\n",
              "      <td>6.3</td>\n",
              "      <td>0.30</td>\n",
              "      <td>0.34</td>\n",
              "      <td>1.6</td>\n",
              "      <td>0.049</td>\n",
              "      <td>14.0</td>\n",
              "      <td>132.0</td>\n",
              "      <td>0.9940</td>\n",
              "      <td>3.30</td>\n",
              "      <td>0.49</td>\n",
              "      <td>9.5</td>\n",
              "      <td>6</td>\n",
              "    </tr>\n",
              "    <tr>\n",
              "      <th>2</th>\n",
              "      <td>8.1</td>\n",
              "      <td>0.28</td>\n",
              "      <td>0.40</td>\n",
              "      <td>6.9</td>\n",
              "      <td>0.050</td>\n",
              "      <td>30.0</td>\n",
              "      <td>97.0</td>\n",
              "      <td>0.9951</td>\n",
              "      <td>3.26</td>\n",
              "      <td>0.44</td>\n",
              "      <td>10.1</td>\n",
              "      <td>6</td>\n",
              "    </tr>\n",
              "    <tr>\n",
              "      <th>3</th>\n",
              "      <td>7.2</td>\n",
              "      <td>0.23</td>\n",
              "      <td>0.32</td>\n",
              "      <td>8.5</td>\n",
              "      <td>0.058</td>\n",
              "      <td>47.0</td>\n",
              "      <td>186.0</td>\n",
              "      <td>0.9956</td>\n",
              "      <td>3.19</td>\n",
              "      <td>0.40</td>\n",
              "      <td>9.9</td>\n",
              "      <td>6</td>\n",
              "    </tr>\n",
              "    <tr>\n",
              "      <th>4</th>\n",
              "      <td>7.2</td>\n",
              "      <td>0.23</td>\n",
              "      <td>0.32</td>\n",
              "      <td>8.5</td>\n",
              "      <td>0.058</td>\n",
              "      <td>47.0</td>\n",
              "      <td>186.0</td>\n",
              "      <td>0.9956</td>\n",
              "      <td>3.19</td>\n",
              "      <td>0.40</td>\n",
              "      <td>9.9</td>\n",
              "      <td>6</td>\n",
              "    </tr>\n",
              "  </tbody>\n",
              "</table>\n",
              "</div>"
            ],
            "text/plain": [
              "   fixed acidity  volatile acidity  citric acid  ...  sulphates  alcohol  quality\n",
              "0            7.0              0.27         0.36  ...       0.45      8.8        6\n",
              "1            6.3              0.30         0.34  ...       0.49      9.5        6\n",
              "2            8.1              0.28         0.40  ...       0.44     10.1        6\n",
              "3            7.2              0.23         0.32  ...       0.40      9.9        6\n",
              "4            7.2              0.23         0.32  ...       0.40      9.9        6\n",
              "\n",
              "[5 rows x 12 columns]"
            ]
          },
          "metadata": {},
          "execution_count": 6
        }
      ]
    },
    {
      "cell_type": "markdown",
      "metadata": {
        "id": "jyul6kBHYZYv"
      },
      "source": [
        "### EDA"
      ]
    },
    {
      "cell_type": "code",
      "metadata": {
        "colab": {
          "base_uri": "https://localhost:8080/"
        },
        "id": "vaCNUZ5PX71P",
        "outputId": "92831de3-1263-4e37-bcd4-9231910b52da"
      },
      "source": [
        "data_red.info()"
      ],
      "execution_count": 7,
      "outputs": [
        {
          "output_type": "stream",
          "name": "stdout",
          "text": [
            "<class 'pandas.core.frame.DataFrame'>\n",
            "RangeIndex: 1599 entries, 0 to 1598\n",
            "Data columns (total 12 columns):\n",
            " #   Column                Non-Null Count  Dtype  \n",
            "---  ------                --------------  -----  \n",
            " 0   fixed acidity         1599 non-null   float64\n",
            " 1   volatile acidity      1599 non-null   float64\n",
            " 2   citric acid           1599 non-null   float64\n",
            " 3   residual sugar        1599 non-null   float64\n",
            " 4   chlorides             1599 non-null   float64\n",
            " 5   free sulfur dioxide   1599 non-null   float64\n",
            " 6   total sulfur dioxide  1599 non-null   float64\n",
            " 7   density               1599 non-null   float64\n",
            " 8   pH                    1599 non-null   float64\n",
            " 9   sulphates             1599 non-null   float64\n",
            " 10  alcohol               1599 non-null   float64\n",
            " 11  quality               1599 non-null   int64  \n",
            "dtypes: float64(11), int64(1)\n",
            "memory usage: 150.0 KB\n"
          ]
        }
      ]
    },
    {
      "cell_type": "code",
      "metadata": {
        "colab": {
          "base_uri": "https://localhost:8080/"
        },
        "id": "HJnY0qcyYLtl",
        "outputId": "9a7c5833-d5b2-4c0e-de68-e3f3c6788ed2"
      },
      "source": [
        "data_white.info()"
      ],
      "execution_count": 8,
      "outputs": [
        {
          "output_type": "stream",
          "name": "stdout",
          "text": [
            "<class 'pandas.core.frame.DataFrame'>\n",
            "RangeIndex: 4898 entries, 0 to 4897\n",
            "Data columns (total 12 columns):\n",
            " #   Column                Non-Null Count  Dtype  \n",
            "---  ------                --------------  -----  \n",
            " 0   fixed acidity         4898 non-null   float64\n",
            " 1   volatile acidity      4898 non-null   float64\n",
            " 2   citric acid           4898 non-null   float64\n",
            " 3   residual sugar        4898 non-null   float64\n",
            " 4   chlorides             4898 non-null   float64\n",
            " 5   free sulfur dioxide   4898 non-null   float64\n",
            " 6   total sulfur dioxide  4898 non-null   float64\n",
            " 7   density               4898 non-null   float64\n",
            " 8   pH                    4898 non-null   float64\n",
            " 9   sulphates             4898 non-null   float64\n",
            " 10  alcohol               4898 non-null   float64\n",
            " 11  quality               4898 non-null   int64  \n",
            "dtypes: float64(11), int64(1)\n",
            "memory usage: 459.3 KB\n"
          ]
        }
      ]
    },
    {
      "cell_type": "markdown",
      "metadata": {
        "id": "4HzTgdcyYepb"
      },
      "source": [
        "No null values found. Good."
      ]
    },
    {
      "cell_type": "code",
      "metadata": {
        "colab": {
          "base_uri": "https://localhost:8080/",
          "height": 421
        },
        "id": "ZQsJvOZXYwIR",
        "outputId": "e6e67dfc-ff01-4588-b8b7-c05ca3225769"
      },
      "source": [
        "data_red.describe().T"
      ],
      "execution_count": 9,
      "outputs": [
        {
          "output_type": "execute_result",
          "data": {
            "text/html": [
              "<div>\n",
              "<style scoped>\n",
              "    .dataframe tbody tr th:only-of-type {\n",
              "        vertical-align: middle;\n",
              "    }\n",
              "\n",
              "    .dataframe tbody tr th {\n",
              "        vertical-align: top;\n",
              "    }\n",
              "\n",
              "    .dataframe thead th {\n",
              "        text-align: right;\n",
              "    }\n",
              "</style>\n",
              "<table border=\"1\" class=\"dataframe\">\n",
              "  <thead>\n",
              "    <tr style=\"text-align: right;\">\n",
              "      <th></th>\n",
              "      <th>count</th>\n",
              "      <th>mean</th>\n",
              "      <th>std</th>\n",
              "      <th>min</th>\n",
              "      <th>25%</th>\n",
              "      <th>50%</th>\n",
              "      <th>75%</th>\n",
              "      <th>max</th>\n",
              "    </tr>\n",
              "  </thead>\n",
              "  <tbody>\n",
              "    <tr>\n",
              "      <th>fixed acidity</th>\n",
              "      <td>1599.0</td>\n",
              "      <td>8.319637</td>\n",
              "      <td>1.741096</td>\n",
              "      <td>4.60000</td>\n",
              "      <td>7.1000</td>\n",
              "      <td>7.90000</td>\n",
              "      <td>9.200000</td>\n",
              "      <td>15.90000</td>\n",
              "    </tr>\n",
              "    <tr>\n",
              "      <th>volatile acidity</th>\n",
              "      <td>1599.0</td>\n",
              "      <td>0.527821</td>\n",
              "      <td>0.179060</td>\n",
              "      <td>0.12000</td>\n",
              "      <td>0.3900</td>\n",
              "      <td>0.52000</td>\n",
              "      <td>0.640000</td>\n",
              "      <td>1.58000</td>\n",
              "    </tr>\n",
              "    <tr>\n",
              "      <th>citric acid</th>\n",
              "      <td>1599.0</td>\n",
              "      <td>0.270976</td>\n",
              "      <td>0.194801</td>\n",
              "      <td>0.00000</td>\n",
              "      <td>0.0900</td>\n",
              "      <td>0.26000</td>\n",
              "      <td>0.420000</td>\n",
              "      <td>1.00000</td>\n",
              "    </tr>\n",
              "    <tr>\n",
              "      <th>residual sugar</th>\n",
              "      <td>1599.0</td>\n",
              "      <td>2.538806</td>\n",
              "      <td>1.409928</td>\n",
              "      <td>0.90000</td>\n",
              "      <td>1.9000</td>\n",
              "      <td>2.20000</td>\n",
              "      <td>2.600000</td>\n",
              "      <td>15.50000</td>\n",
              "    </tr>\n",
              "    <tr>\n",
              "      <th>chlorides</th>\n",
              "      <td>1599.0</td>\n",
              "      <td>0.087467</td>\n",
              "      <td>0.047065</td>\n",
              "      <td>0.01200</td>\n",
              "      <td>0.0700</td>\n",
              "      <td>0.07900</td>\n",
              "      <td>0.090000</td>\n",
              "      <td>0.61100</td>\n",
              "    </tr>\n",
              "    <tr>\n",
              "      <th>free sulfur dioxide</th>\n",
              "      <td>1599.0</td>\n",
              "      <td>15.874922</td>\n",
              "      <td>10.460157</td>\n",
              "      <td>1.00000</td>\n",
              "      <td>7.0000</td>\n",
              "      <td>14.00000</td>\n",
              "      <td>21.000000</td>\n",
              "      <td>72.00000</td>\n",
              "    </tr>\n",
              "    <tr>\n",
              "      <th>total sulfur dioxide</th>\n",
              "      <td>1599.0</td>\n",
              "      <td>46.467792</td>\n",
              "      <td>32.895324</td>\n",
              "      <td>6.00000</td>\n",
              "      <td>22.0000</td>\n",
              "      <td>38.00000</td>\n",
              "      <td>62.000000</td>\n",
              "      <td>289.00000</td>\n",
              "    </tr>\n",
              "    <tr>\n",
              "      <th>density</th>\n",
              "      <td>1599.0</td>\n",
              "      <td>0.996747</td>\n",
              "      <td>0.001887</td>\n",
              "      <td>0.99007</td>\n",
              "      <td>0.9956</td>\n",
              "      <td>0.99675</td>\n",
              "      <td>0.997835</td>\n",
              "      <td>1.00369</td>\n",
              "    </tr>\n",
              "    <tr>\n",
              "      <th>pH</th>\n",
              "      <td>1599.0</td>\n",
              "      <td>3.311113</td>\n",
              "      <td>0.154386</td>\n",
              "      <td>2.74000</td>\n",
              "      <td>3.2100</td>\n",
              "      <td>3.31000</td>\n",
              "      <td>3.400000</td>\n",
              "      <td>4.01000</td>\n",
              "    </tr>\n",
              "    <tr>\n",
              "      <th>sulphates</th>\n",
              "      <td>1599.0</td>\n",
              "      <td>0.658149</td>\n",
              "      <td>0.169507</td>\n",
              "      <td>0.33000</td>\n",
              "      <td>0.5500</td>\n",
              "      <td>0.62000</td>\n",
              "      <td>0.730000</td>\n",
              "      <td>2.00000</td>\n",
              "    </tr>\n",
              "    <tr>\n",
              "      <th>alcohol</th>\n",
              "      <td>1599.0</td>\n",
              "      <td>10.422983</td>\n",
              "      <td>1.065668</td>\n",
              "      <td>8.40000</td>\n",
              "      <td>9.5000</td>\n",
              "      <td>10.20000</td>\n",
              "      <td>11.100000</td>\n",
              "      <td>14.90000</td>\n",
              "    </tr>\n",
              "    <tr>\n",
              "      <th>quality</th>\n",
              "      <td>1599.0</td>\n",
              "      <td>5.636023</td>\n",
              "      <td>0.807569</td>\n",
              "      <td>3.00000</td>\n",
              "      <td>5.0000</td>\n",
              "      <td>6.00000</td>\n",
              "      <td>6.000000</td>\n",
              "      <td>8.00000</td>\n",
              "    </tr>\n",
              "  </tbody>\n",
              "</table>\n",
              "</div>"
            ],
            "text/plain": [
              "                       count       mean  ...        75%        max\n",
              "fixed acidity         1599.0   8.319637  ...   9.200000   15.90000\n",
              "volatile acidity      1599.0   0.527821  ...   0.640000    1.58000\n",
              "citric acid           1599.0   0.270976  ...   0.420000    1.00000\n",
              "residual sugar        1599.0   2.538806  ...   2.600000   15.50000\n",
              "chlorides             1599.0   0.087467  ...   0.090000    0.61100\n",
              "free sulfur dioxide   1599.0  15.874922  ...  21.000000   72.00000\n",
              "total sulfur dioxide  1599.0  46.467792  ...  62.000000  289.00000\n",
              "density               1599.0   0.996747  ...   0.997835    1.00369\n",
              "pH                    1599.0   3.311113  ...   3.400000    4.01000\n",
              "sulphates             1599.0   0.658149  ...   0.730000    2.00000\n",
              "alcohol               1599.0  10.422983  ...  11.100000   14.90000\n",
              "quality               1599.0   5.636023  ...   6.000000    8.00000\n",
              "\n",
              "[12 rows x 8 columns]"
            ]
          },
          "metadata": {},
          "execution_count": 9
        }
      ]
    },
    {
      "cell_type": "code",
      "metadata": {
        "colab": {
          "base_uri": "https://localhost:8080/",
          "height": 421
        },
        "id": "-JSJ6qpoY2G1",
        "outputId": "3f105f92-bb39-4d26-c2eb-a3772c48e354"
      },
      "source": [
        "data_white.describe().T"
      ],
      "execution_count": 10,
      "outputs": [
        {
          "output_type": "execute_result",
          "data": {
            "text/html": [
              "<div>\n",
              "<style scoped>\n",
              "    .dataframe tbody tr th:only-of-type {\n",
              "        vertical-align: middle;\n",
              "    }\n",
              "\n",
              "    .dataframe tbody tr th {\n",
              "        vertical-align: top;\n",
              "    }\n",
              "\n",
              "    .dataframe thead th {\n",
              "        text-align: right;\n",
              "    }\n",
              "</style>\n",
              "<table border=\"1\" class=\"dataframe\">\n",
              "  <thead>\n",
              "    <tr style=\"text-align: right;\">\n",
              "      <th></th>\n",
              "      <th>count</th>\n",
              "      <th>mean</th>\n",
              "      <th>std</th>\n",
              "      <th>min</th>\n",
              "      <th>25%</th>\n",
              "      <th>50%</th>\n",
              "      <th>75%</th>\n",
              "      <th>max</th>\n",
              "    </tr>\n",
              "  </thead>\n",
              "  <tbody>\n",
              "    <tr>\n",
              "      <th>fixed acidity</th>\n",
              "      <td>4898.0</td>\n",
              "      <td>6.854788</td>\n",
              "      <td>0.843868</td>\n",
              "      <td>3.80000</td>\n",
              "      <td>6.300000</td>\n",
              "      <td>6.80000</td>\n",
              "      <td>7.3000</td>\n",
              "      <td>14.20000</td>\n",
              "    </tr>\n",
              "    <tr>\n",
              "      <th>volatile acidity</th>\n",
              "      <td>4898.0</td>\n",
              "      <td>0.278241</td>\n",
              "      <td>0.100795</td>\n",
              "      <td>0.08000</td>\n",
              "      <td>0.210000</td>\n",
              "      <td>0.26000</td>\n",
              "      <td>0.3200</td>\n",
              "      <td>1.10000</td>\n",
              "    </tr>\n",
              "    <tr>\n",
              "      <th>citric acid</th>\n",
              "      <td>4898.0</td>\n",
              "      <td>0.334192</td>\n",
              "      <td>0.121020</td>\n",
              "      <td>0.00000</td>\n",
              "      <td>0.270000</td>\n",
              "      <td>0.32000</td>\n",
              "      <td>0.3900</td>\n",
              "      <td>1.66000</td>\n",
              "    </tr>\n",
              "    <tr>\n",
              "      <th>residual sugar</th>\n",
              "      <td>4898.0</td>\n",
              "      <td>6.391415</td>\n",
              "      <td>5.072058</td>\n",
              "      <td>0.60000</td>\n",
              "      <td>1.700000</td>\n",
              "      <td>5.20000</td>\n",
              "      <td>9.9000</td>\n",
              "      <td>65.80000</td>\n",
              "    </tr>\n",
              "    <tr>\n",
              "      <th>chlorides</th>\n",
              "      <td>4898.0</td>\n",
              "      <td>0.045772</td>\n",
              "      <td>0.021848</td>\n",
              "      <td>0.00900</td>\n",
              "      <td>0.036000</td>\n",
              "      <td>0.04300</td>\n",
              "      <td>0.0500</td>\n",
              "      <td>0.34600</td>\n",
              "    </tr>\n",
              "    <tr>\n",
              "      <th>free sulfur dioxide</th>\n",
              "      <td>4898.0</td>\n",
              "      <td>35.308085</td>\n",
              "      <td>17.007137</td>\n",
              "      <td>2.00000</td>\n",
              "      <td>23.000000</td>\n",
              "      <td>34.00000</td>\n",
              "      <td>46.0000</td>\n",
              "      <td>289.00000</td>\n",
              "    </tr>\n",
              "    <tr>\n",
              "      <th>total sulfur dioxide</th>\n",
              "      <td>4898.0</td>\n",
              "      <td>138.360657</td>\n",
              "      <td>42.498065</td>\n",
              "      <td>9.00000</td>\n",
              "      <td>108.000000</td>\n",
              "      <td>134.00000</td>\n",
              "      <td>167.0000</td>\n",
              "      <td>440.00000</td>\n",
              "    </tr>\n",
              "    <tr>\n",
              "      <th>density</th>\n",
              "      <td>4898.0</td>\n",
              "      <td>0.994027</td>\n",
              "      <td>0.002991</td>\n",
              "      <td>0.98711</td>\n",
              "      <td>0.991723</td>\n",
              "      <td>0.99374</td>\n",
              "      <td>0.9961</td>\n",
              "      <td>1.03898</td>\n",
              "    </tr>\n",
              "    <tr>\n",
              "      <th>pH</th>\n",
              "      <td>4898.0</td>\n",
              "      <td>3.188267</td>\n",
              "      <td>0.151001</td>\n",
              "      <td>2.72000</td>\n",
              "      <td>3.090000</td>\n",
              "      <td>3.18000</td>\n",
              "      <td>3.2800</td>\n",
              "      <td>3.82000</td>\n",
              "    </tr>\n",
              "    <tr>\n",
              "      <th>sulphates</th>\n",
              "      <td>4898.0</td>\n",
              "      <td>0.489847</td>\n",
              "      <td>0.114126</td>\n",
              "      <td>0.22000</td>\n",
              "      <td>0.410000</td>\n",
              "      <td>0.47000</td>\n",
              "      <td>0.5500</td>\n",
              "      <td>1.08000</td>\n",
              "    </tr>\n",
              "    <tr>\n",
              "      <th>alcohol</th>\n",
              "      <td>4898.0</td>\n",
              "      <td>10.514267</td>\n",
              "      <td>1.230621</td>\n",
              "      <td>8.00000</td>\n",
              "      <td>9.500000</td>\n",
              "      <td>10.40000</td>\n",
              "      <td>11.4000</td>\n",
              "      <td>14.20000</td>\n",
              "    </tr>\n",
              "    <tr>\n",
              "      <th>quality</th>\n",
              "      <td>4898.0</td>\n",
              "      <td>5.877909</td>\n",
              "      <td>0.885639</td>\n",
              "      <td>3.00000</td>\n",
              "      <td>5.000000</td>\n",
              "      <td>6.00000</td>\n",
              "      <td>6.0000</td>\n",
              "      <td>9.00000</td>\n",
              "    </tr>\n",
              "  </tbody>\n",
              "</table>\n",
              "</div>"
            ],
            "text/plain": [
              "                       count        mean  ...       75%        max\n",
              "fixed acidity         4898.0    6.854788  ...    7.3000   14.20000\n",
              "volatile acidity      4898.0    0.278241  ...    0.3200    1.10000\n",
              "citric acid           4898.0    0.334192  ...    0.3900    1.66000\n",
              "residual sugar        4898.0    6.391415  ...    9.9000   65.80000\n",
              "chlorides             4898.0    0.045772  ...    0.0500    0.34600\n",
              "free sulfur dioxide   4898.0   35.308085  ...   46.0000  289.00000\n",
              "total sulfur dioxide  4898.0  138.360657  ...  167.0000  440.00000\n",
              "density               4898.0    0.994027  ...    0.9961    1.03898\n",
              "pH                    4898.0    3.188267  ...    3.2800    3.82000\n",
              "sulphates             4898.0    0.489847  ...    0.5500    1.08000\n",
              "alcohol               4898.0   10.514267  ...   11.4000   14.20000\n",
              "quality               4898.0    5.877909  ...    6.0000    9.00000\n",
              "\n",
              "[12 rows x 8 columns]"
            ]
          },
          "metadata": {},
          "execution_count": 10
        }
      ]
    },
    {
      "cell_type": "markdown",
      "metadata": {
        "id": "6_k_JVGVZ-wu"
      },
      "source": [
        "Let's look for outliers."
      ]
    },
    {
      "cell_type": "code",
      "metadata": {
        "colab": {
          "base_uri": "https://localhost:8080/",
          "height": 609
        },
        "id": "uFA7nKCJYNy0",
        "outputId": "f427bf66-3781-4945-f5e4-3e210d5c7a68"
      },
      "source": [
        "fig, ax = plt.subplots(figsize=(15,10))\n",
        "sns.boxplot(data=data_red, width= 0.5,ax=ax,  fliersize=3)"
      ],
      "execution_count": 11,
      "outputs": [
        {
          "output_type": "execute_result",
          "data": {
            "text/plain": [
              "<matplotlib.axes._subplots.AxesSubplot at 0x7f040fb7ccd0>"
            ]
          },
          "metadata": {},
          "execution_count": 11
        },
        {
          "output_type": "display_data",
          "data": {
            "image/png": "[encoded data removed]",
            "text/plain": [
              "<Figure size 1080x720 with 1 Axes>"
            ]
          },
          "metadata": {
            "needs_background": "light"
          }
        }
      ]
    },
    {
      "cell_type": "markdown",
      "metadata": {
        "id": "UdWkTMgeaCEb"
      },
      "source": [
        "Outliers identified in 'total sulfur dioxide' variable."
      ]
    },
    {
      "cell_type": "code",
      "metadata": {
        "colab": {
          "base_uri": "https://localhost:8080/",
          "height": 609
        },
        "id": "jJleRNfpZt9d",
        "outputId": "9322ade1-139f-4c93-8bdf-fe2e632b927e"
      },
      "source": [
        "fig, ax = plt.subplots(figsize=(15,10))\n",
        "sns.boxplot(data=data_white, width= 0.5,ax=ax,  fliersize=3)"
      ],
      "execution_count": 12,
      "outputs": [
        {
          "output_type": "execute_result",
          "data": {
            "text/plain": [
              "<matplotlib.axes._subplots.AxesSubplot at 0x7f040f14da50>"
            ]
          },
          "metadata": {},
          "execution_count": 12
        },
        {
          "output_type": "display_data",
          "data": {
            "image/png": "[encoded data removed]",
            "text/plain": [
              "<Figure size 1080x720 with 1 Axes>"
            ]
          },
          "metadata": {
            "needs_background": "light"
          }
        }
      ]
    },
    {
      "cell_type": "markdown",
      "metadata": {
        "id": "1mmdFRq0aKvS"
      },
      "source": [
        "Looks like white wines have more outliers. Spotted in 'total sulfur dioxide', 'free sulfur dioxide', and 'residual sugar' variables."
      ]
    },
    {
      "cell_type": "code",
      "metadata": {
        "colab": {
          "base_uri": "https://localhost:8080/",
          "height": 282
        },
        "id": "U7fvqomEVI6E",
        "outputId": "5a7acbac-56a4-4190-a88e-a5e2aa9212a8"
      },
      "source": [
        "data_red['quality'].hist(bins=5)"
      ],
      "execution_count": 15,
      "outputs": [
        {
          "output_type": "execute_result",
          "data": {
            "text/plain": [
              "<matplotlib.axes._subplots.AxesSubplot at 0x7f040a912390>"
            ]
          },
          "metadata": {},
          "execution_count": 15
        },
        {
          "output_type": "display_data",
          "data": {
            "image/png": "[encoded data removed]",
            "text/plain": [
              "<Figure size 432x288 with 1 Axes>"
            ]
          },
          "metadata": {
            "needs_background": "light"
          }
        }
      ]
    },
    {
      "cell_type": "code",
      "metadata": {
        "colab": {
          "base_uri": "https://localhost:8080/",
          "height": 282
        },
        "id": "FTs07O97VSMO",
        "outputId": "37d92b13-a12a-46e8-b3e3-53f20f23f050"
      },
      "source": [
        "data_white['quality'].hist(bins=5)"
      ],
      "execution_count": 18,
      "outputs": [
        {
          "output_type": "execute_result",
          "data": {
            "text/plain": [
              "<matplotlib.axes._subplots.AxesSubplot at 0x7f040a792490>"
            ]
          },
          "metadata": {},
          "execution_count": 18
        },
        {
          "output_type": "display_data",
          "data": {
            "image/png": "[encoded data removed]",
            "text/plain": [
              "<Figure size 432x288 with 1 Axes>"
            ]
          },
          "metadata": {
            "needs_background": "light"
          }
        }
      ]
    },
    {
      "cell_type": "code",
      "metadata": {
        "colab": {
          "base_uri": "https://localhost:8080/",
          "height": 571
        },
        "id": "BjuyFXc7XaT9",
        "outputId": "2649c956-7ac0-4630-b66a-0f6a35c6a108"
      },
      "source": [
        "corr = data_red.corr()\n",
        "plt.figure(figsize=(14,8))\n",
        "sns.heatmap(corr, annot=True)\n",
        "plt.show()"
      ],
      "execution_count": 30,
      "outputs": [
        {
          "output_type": "display_data",
          "data": {
            "image/png": "[encoded data removed]",
            "text/plain": [
              "<Figure size 1008x576 with 2 Axes>"
            ]
          },
          "metadata": {
            "needs_background": "light"
          }
        }
      ]
    },
    {
      "cell_type": "code",
      "metadata": {
        "colab": {
          "base_uri": "https://localhost:8080/",
          "height": 571
        },
        "id": "0VsFkp4AayvE",
        "outputId": "2379dfd5-2204-4b20-ca46-9a5c654ebfed"
      },
      "source": [
        "corr = data_white.corr()\n",
        "plt.figure(figsize=(14,8))\n",
        "sns.heatmap(corr, annot=True)\n",
        "plt.show()"
      ],
      "execution_count": 31,
      "outputs": [
        {
          "output_type": "display_data",
          "data": {
            "image/png": "[encoded data removed]",
            "text/plain": [
              "<Figure size 1008x576 with 2 Axes>"
            ]
          },
          "metadata": {
            "needs_background": "light"
          }
        }
      ]
    },
    {
      "cell_type": "markdown",
      "metadata": {
        "id": "_pQxuZo1UVFd"
      },
      "source": [
        "Our data is unbalanced. Let's normalize them."
      ]
    },
    {
      "cell_type": "code",
      "metadata": {
        "colab": {
          "base_uri": "https://localhost:8080/",
          "height": 419
        },
        "id": "betTOLhiUUsS",
        "outputId": "8319ef15-d14e-4d2c-d78c-b5bb49da8df6"
      },
      "source": [
        "scaler = StandardScaler()\n",
        "scaled_red = pd.DataFrame(scaler.fit_transform(data_red), columns=data_red.columns)\n",
        "scaled_red"
      ],
      "execution_count": 35,
      "outputs": [
        {
          "output_type": "execute_result",
          "data": {
            "text/html": [
              "<div>\n",
              "<style scoped>\n",
              "    .dataframe tbody tr th:only-of-type {\n",
              "        vertical-align: middle;\n",
              "    }\n",
              "\n",
              "    .dataframe tbody tr th {\n",
              "        vertical-align: top;\n",
              "    }\n",
              "\n",
              "    .dataframe thead th {\n",
              "        text-align: right;\n",
              "    }\n",
              "</style>\n",
              "<table border=\"1\" class=\"dataframe\">\n",
              "  <thead>\n",
              "    <tr style=\"text-align: right;\">\n",
              "      <th></th>\n",
              "      <th>fixed acidity</th>\n",
              "      <th>volatile acidity</th>\n",
              "      <th>citric acid</th>\n",
              "      <th>residual sugar</th>\n",
              "      <th>chlorides</th>\n",
              "      <th>free sulfur dioxide</th>\n",
              "      <th>total sulfur dioxide</th>\n",
              "      <th>density</th>\n",
              "      <th>pH</th>\n",
              "      <th>sulphates</th>\n",
              "      <th>alcohol</th>\n",
              "      <th>quality</th>\n",
              "    </tr>\n",
              "  </thead>\n",
              "  <tbody>\n",
              "    <tr>\n",
              "      <th>0</th>\n",
              "      <td>-0.528360</td>\n",
              "      <td>0.961877</td>\n",
              "      <td>-1.391472</td>\n",
              "      <td>-0.453218</td>\n",
              "      <td>-0.243707</td>\n",
              "      <td>-0.466193</td>\n",
              "      <td>-0.379133</td>\n",
              "      <td>0.558274</td>\n",
              "      <td>1.288643</td>\n",
              "      <td>-0.579207</td>\n",
              "      <td>-0.960246</td>\n",
              "      <td>-0.787823</td>\n",
              "    </tr>\n",
              "    <tr>\n",
              "      <th>1</th>\n",
              "      <td>-0.298547</td>\n",
              "      <td>1.967442</td>\n",
              "      <td>-1.391472</td>\n",
              "      <td>0.043416</td>\n",
              "      <td>0.223875</td>\n",
              "      <td>0.872638</td>\n",
              "      <td>0.624363</td>\n",
              "      <td>0.028261</td>\n",
              "      <td>-0.719933</td>\n",
              "      <td>0.128950</td>\n",
              "      <td>-0.584777</td>\n",
              "      <td>-0.787823</td>\n",
              "    </tr>\n",
              "    <tr>\n",
              "      <th>2</th>\n",
              "      <td>-0.298547</td>\n",
              "      <td>1.297065</td>\n",
              "      <td>-1.186070</td>\n",
              "      <td>-0.169427</td>\n",
              "      <td>0.096353</td>\n",
              "      <td>-0.083669</td>\n",
              "      <td>0.229047</td>\n",
              "      <td>0.134264</td>\n",
              "      <td>-0.331177</td>\n",
              "      <td>-0.048089</td>\n",
              "      <td>-0.584777</td>\n",
              "      <td>-0.787823</td>\n",
              "    </tr>\n",
              "    <tr>\n",
              "      <th>3</th>\n",
              "      <td>1.654856</td>\n",
              "      <td>-1.384443</td>\n",
              "      <td>1.484154</td>\n",
              "      <td>-0.453218</td>\n",
              "      <td>-0.264960</td>\n",
              "      <td>0.107592</td>\n",
              "      <td>0.411500</td>\n",
              "      <td>0.664277</td>\n",
              "      <td>-0.979104</td>\n",
              "      <td>-0.461180</td>\n",
              "      <td>-0.584777</td>\n",
              "      <td>0.450848</td>\n",
              "    </tr>\n",
              "    <tr>\n",
              "      <th>4</th>\n",
              "      <td>-0.528360</td>\n",
              "      <td>0.961877</td>\n",
              "      <td>-1.391472</td>\n",
              "      <td>-0.453218</td>\n",
              "      <td>-0.243707</td>\n",
              "      <td>-0.466193</td>\n",
              "      <td>-0.379133</td>\n",
              "      <td>0.558274</td>\n",
              "      <td>1.288643</td>\n",
              "      <td>-0.579207</td>\n",
              "      <td>-0.960246</td>\n",
              "      <td>-0.787823</td>\n",
              "    </tr>\n",
              "    <tr>\n",
              "      <th>...</th>\n",
              "      <td>...</td>\n",
              "      <td>...</td>\n",
              "      <td>...</td>\n",
              "      <td>...</td>\n",
              "      <td>...</td>\n",
              "      <td>...</td>\n",
              "      <td>...</td>\n",
              "      <td>...</td>\n",
              "      <td>...</td>\n",
              "      <td>...</td>\n",
              "      <td>...</td>\n",
              "      <td>...</td>\n",
              "    </tr>\n",
              "    <tr>\n",
              "      <th>1594</th>\n",
              "      <td>-1.217796</td>\n",
              "      <td>0.403229</td>\n",
              "      <td>-0.980669</td>\n",
              "      <td>-0.382271</td>\n",
              "      <td>0.053845</td>\n",
              "      <td>1.542054</td>\n",
              "      <td>-0.075043</td>\n",
              "      <td>-0.978765</td>\n",
              "      <td>0.899886</td>\n",
              "      <td>-0.461180</td>\n",
              "      <td>0.072294</td>\n",
              "      <td>-0.787823</td>\n",
              "    </tr>\n",
              "    <tr>\n",
              "      <th>1595</th>\n",
              "      <td>-1.390155</td>\n",
              "      <td>0.123905</td>\n",
              "      <td>-0.877968</td>\n",
              "      <td>-0.240375</td>\n",
              "      <td>-0.541259</td>\n",
              "      <td>2.211469</td>\n",
              "      <td>0.137820</td>\n",
              "      <td>-0.862162</td>\n",
              "      <td>1.353436</td>\n",
              "      <td>0.601055</td>\n",
              "      <td>0.729364</td>\n",
              "      <td>0.450848</td>\n",
              "    </tr>\n",
              "    <tr>\n",
              "      <th>1596</th>\n",
              "      <td>-1.160343</td>\n",
              "      <td>-0.099554</td>\n",
              "      <td>-0.723916</td>\n",
              "      <td>-0.169427</td>\n",
              "      <td>-0.243707</td>\n",
              "      <td>1.255161</td>\n",
              "      <td>-0.196679</td>\n",
              "      <td>-0.533554</td>\n",
              "      <td>0.705508</td>\n",
              "      <td>0.542042</td>\n",
              "      <td>0.541630</td>\n",
              "      <td>0.450848</td>\n",
              "    </tr>\n",
              "    <tr>\n",
              "      <th>1597</th>\n",
              "      <td>-1.390155</td>\n",
              "      <td>0.654620</td>\n",
              "      <td>-0.775267</td>\n",
              "      <td>-0.382271</td>\n",
              "      <td>-0.264960</td>\n",
              "      <td>1.542054</td>\n",
              "      <td>-0.075043</td>\n",
              "      <td>-0.676657</td>\n",
              "      <td>1.677400</td>\n",
              "      <td>0.305990</td>\n",
              "      <td>-0.209308</td>\n",
              "      <td>-0.787823</td>\n",
              "    </tr>\n",
              "    <tr>\n",
              "      <th>1598</th>\n",
              "      <td>-1.332702</td>\n",
              "      <td>-1.216849</td>\n",
              "      <td>1.021999</td>\n",
              "      <td>0.752894</td>\n",
              "      <td>-0.434990</td>\n",
              "      <td>0.203223</td>\n",
              "      <td>-0.135861</td>\n",
              "      <td>-0.666057</td>\n",
              "      <td>0.511130</td>\n",
              "      <td>0.010924</td>\n",
              "      <td>0.541630</td>\n",
              "      <td>0.450848</td>\n",
              "    </tr>\n",
              "  </tbody>\n",
              "</table>\n",
              "<p>1599 rows × 12 columns</p>\n",
              "</div>"
            ],
            "text/plain": [
              "      fixed acidity  volatile acidity  ...   alcohol   quality\n",
              "0         -0.528360          0.961877  ... -0.960246 -0.787823\n",
              "1         -0.298547          1.967442  ... -0.584777 -0.787823\n",
              "2         -0.298547          1.297065  ... -0.584777 -0.787823\n",
              "3          1.654856         -1.384443  ... -0.584777  0.450848\n",
              "4         -0.528360          0.961877  ... -0.960246 -0.787823\n",
              "...             ...               ...  ...       ...       ...\n",
              "1594      -1.217796          0.403229  ...  0.072294 -0.787823\n",
              "1595      -1.390155          0.123905  ...  0.729364  0.450848\n",
              "1596      -1.160343         -0.099554  ...  0.541630  0.450848\n",
              "1597      -1.390155          0.654620  ... -0.209308 -0.787823\n",
              "1598      -1.332702         -1.216849  ...  0.541630  0.450848\n",
              "\n",
              "[1599 rows x 12 columns]"
            ]
          },
          "metadata": {},
          "execution_count": 35
        }
      ]
    },
    {
      "cell_type": "code",
      "metadata": {
        "colab": {
          "base_uri": "https://localhost:8080/",
          "height": 419
        },
        "id": "rXSEpE8Fcc0E",
        "outputId": "f6796a98-e75b-42ec-fb47-9f682d0d58d6"
      },
      "source": [
        "scaler = StandardScaler()\n",
        "scaled_white = pd.DataFrame(scaler.fit_transform(data_white), columns=data_white.columns)\n",
        "scaled_white"
      ],
      "execution_count": 36,
      "outputs": [
        {
          "output_type": "execute_result",
          "data": {
            "text/html": [
              "<div>\n",
              "<style scoped>\n",
              "    .dataframe tbody tr th:only-of-type {\n",
              "        vertical-align: middle;\n",
              "    }\n",
              "\n",
              "    .dataframe tbody tr th {\n",
              "        vertical-align: top;\n",
              "    }\n",
              "\n",
              "    .dataframe thead th {\n",
              "        text-align: right;\n",
              "    }\n",
              "</style>\n",
              "<table border=\"1\" class=\"dataframe\">\n",
              "  <thead>\n",
              "    <tr style=\"text-align: right;\">\n",
              "      <th></th>\n",
              "      <th>fixed acidity</th>\n",
              "      <th>volatile acidity</th>\n",
              "      <th>citric acid</th>\n",
              "      <th>residual sugar</th>\n",
              "      <th>chlorides</th>\n",
              "      <th>free sulfur dioxide</th>\n",
              "      <th>total sulfur dioxide</th>\n",
              "      <th>density</th>\n",
              "      <th>pH</th>\n",
              "      <th>sulphates</th>\n",
              "      <th>alcohol</th>\n",
              "      <th>quality</th>\n",
              "    </tr>\n",
              "  </thead>\n",
              "  <tbody>\n",
              "    <tr>\n",
              "      <th>0</th>\n",
              "      <td>0.172097</td>\n",
              "      <td>-0.081770</td>\n",
              "      <td>0.213280</td>\n",
              "      <td>2.821349</td>\n",
              "      <td>-0.035355</td>\n",
              "      <td>0.569932</td>\n",
              "      <td>0.744565</td>\n",
              "      <td>2.331512</td>\n",
              "      <td>-1.246921</td>\n",
              "      <td>-0.349184</td>\n",
              "      <td>-1.393152</td>\n",
              "      <td>0.137870</td>\n",
              "    </tr>\n",
              "    <tr>\n",
              "      <th>1</th>\n",
              "      <td>-0.657501</td>\n",
              "      <td>0.215896</td>\n",
              "      <td>0.048001</td>\n",
              "      <td>-0.944765</td>\n",
              "      <td>0.147747</td>\n",
              "      <td>-1.253019</td>\n",
              "      <td>-0.149685</td>\n",
              "      <td>-0.009154</td>\n",
              "      <td>0.740029</td>\n",
              "      <td>0.001342</td>\n",
              "      <td>-0.824276</td>\n",
              "      <td>0.137870</td>\n",
              "    </tr>\n",
              "    <tr>\n",
              "      <th>2</th>\n",
              "      <td>1.475751</td>\n",
              "      <td>0.017452</td>\n",
              "      <td>0.543838</td>\n",
              "      <td>0.100282</td>\n",
              "      <td>0.193523</td>\n",
              "      <td>-0.312141</td>\n",
              "      <td>-0.973336</td>\n",
              "      <td>0.358665</td>\n",
              "      <td>0.475102</td>\n",
              "      <td>-0.436816</td>\n",
              "      <td>-0.336667</td>\n",
              "      <td>0.137870</td>\n",
              "    </tr>\n",
              "    <tr>\n",
              "      <th>3</th>\n",
              "      <td>0.409125</td>\n",
              "      <td>-0.478657</td>\n",
              "      <td>-0.117278</td>\n",
              "      <td>0.415768</td>\n",
              "      <td>0.559727</td>\n",
              "      <td>0.687541</td>\n",
              "      <td>1.121091</td>\n",
              "      <td>0.525855</td>\n",
              "      <td>0.011480</td>\n",
              "      <td>-0.787342</td>\n",
              "      <td>-0.499203</td>\n",
              "      <td>0.137870</td>\n",
              "    </tr>\n",
              "    <tr>\n",
              "      <th>4</th>\n",
              "      <td>0.409125</td>\n",
              "      <td>-0.478657</td>\n",
              "      <td>-0.117278</td>\n",
              "      <td>0.415768</td>\n",
              "      <td>0.559727</td>\n",
              "      <td>0.687541</td>\n",
              "      <td>1.121091</td>\n",
              "      <td>0.525855</td>\n",
              "      <td>0.011480</td>\n",
              "      <td>-0.787342</td>\n",
              "      <td>-0.499203</td>\n",
              "      <td>0.137870</td>\n",
              "    </tr>\n",
              "    <tr>\n",
              "      <th>...</th>\n",
              "      <td>...</td>\n",
              "      <td>...</td>\n",
              "      <td>...</td>\n",
              "      <td>...</td>\n",
              "      <td>...</td>\n",
              "      <td>...</td>\n",
              "      <td>...</td>\n",
              "      <td>...</td>\n",
              "      <td>...</td>\n",
              "      <td>...</td>\n",
              "      <td>...</td>\n",
              "      <td>...</td>\n",
              "    </tr>\n",
              "    <tr>\n",
              "      <th>4893</th>\n",
              "      <td>-0.776015</td>\n",
              "      <td>-0.677101</td>\n",
              "      <td>-0.365197</td>\n",
              "      <td>-0.944765</td>\n",
              "      <td>-0.310008</td>\n",
              "      <td>-0.664970</td>\n",
              "      <td>-1.091000</td>\n",
              "      <td>-0.965483</td>\n",
              "      <td>0.541334</td>\n",
              "      <td>0.088973</td>\n",
              "      <td>0.557282</td>\n",
              "      <td>0.137870</td>\n",
              "    </tr>\n",
              "    <tr>\n",
              "      <th>4894</th>\n",
              "      <td>-0.301959</td>\n",
              "      <td>0.414339</td>\n",
              "      <td>0.213280</td>\n",
              "      <td>0.317179</td>\n",
              "      <td>0.056196</td>\n",
              "      <td>1.275590</td>\n",
              "      <td>0.697499</td>\n",
              "      <td>0.291789</td>\n",
              "      <td>-0.253446</td>\n",
              "      <td>-0.261553</td>\n",
              "      <td>-0.743008</td>\n",
              "      <td>-0.991374</td>\n",
              "    </tr>\n",
              "    <tr>\n",
              "      <th>4895</th>\n",
              "      <td>-0.420473</td>\n",
              "      <td>-0.379435</td>\n",
              "      <td>-1.191592</td>\n",
              "      <td>-1.023637</td>\n",
              "      <td>-0.218457</td>\n",
              "      <td>-0.312141</td>\n",
              "      <td>-0.643875</td>\n",
              "      <td>-0.497350</td>\n",
              "      <td>-1.313153</td>\n",
              "      <td>-0.261553</td>\n",
              "      <td>-0.905544</td>\n",
              "      <td>0.137870</td>\n",
              "    </tr>\n",
              "    <tr>\n",
              "      <th>4896</th>\n",
              "      <td>-1.605613</td>\n",
              "      <td>0.116674</td>\n",
              "      <td>-0.282557</td>\n",
              "      <td>-1.043355</td>\n",
              "      <td>-1.088192</td>\n",
              "      <td>-0.900190</td>\n",
              "      <td>-0.667408</td>\n",
              "      <td>-1.784717</td>\n",
              "      <td>1.004955</td>\n",
              "      <td>-0.962605</td>\n",
              "      <td>1.857572</td>\n",
              "      <td>1.267114</td>\n",
              "    </tr>\n",
              "    <tr>\n",
              "      <th>4897</th>\n",
              "      <td>-1.013043</td>\n",
              "      <td>-0.677101</td>\n",
              "      <td>0.378559</td>\n",
              "      <td>-1.102508</td>\n",
              "      <td>-1.179743</td>\n",
              "      <td>-0.782580</td>\n",
              "      <td>-0.949803</td>\n",
              "      <td>-1.543962</td>\n",
              "      <td>0.475102</td>\n",
              "      <td>-1.488394</td>\n",
              "      <td>1.044891</td>\n",
              "      <td>0.137870</td>\n",
              "    </tr>\n",
              "  </tbody>\n",
              "</table>\n",
              "<p>4898 rows × 12 columns</p>\n",
              "</div>"
            ],
            "text/plain": [
              "      fixed acidity  volatile acidity  ...   alcohol   quality\n",
              "0          0.172097         -0.081770  ... -1.393152  0.137870\n",
              "1         -0.657501          0.215896  ... -0.824276  0.137870\n",
              "2          1.475751          0.017452  ... -0.336667  0.137870\n",
              "3          0.409125         -0.478657  ... -0.499203  0.137870\n",
              "4          0.409125         -0.478657  ... -0.499203  0.137870\n",
              "...             ...               ...  ...       ...       ...\n",
              "4893      -0.776015         -0.677101  ...  0.557282  0.137870\n",
              "4894      -0.301959          0.414339  ... -0.743008 -0.991374\n",
              "4895      -0.420473         -0.379435  ... -0.905544  0.137870\n",
              "4896      -1.605613          0.116674  ...  1.857572  1.267114\n",
              "4897      -1.013043         -0.677101  ...  1.044891  0.137870\n",
              "\n",
              "[4898 rows x 12 columns]"
            ]
          },
          "metadata": {},
          "execution_count": 36
        }
      ]
    },
    {
      "cell_type": "markdown",
      "metadata": {
        "id": "lCACZIc_d-wW"
      },
      "source": [
        "### PCA"
      ]
    },
    {
      "cell_type": "markdown",
      "metadata": {
        "id": "yRJ4YLCfeoRx"
      },
      "source": [
        "## Red wine"
      ]
    },
    {
      "cell_type": "code",
      "metadata": {
        "colab": {
          "base_uri": "https://localhost:8080/",
          "height": 419
        },
        "id": "TzgRUm_zcz6V",
        "outputId": "b04655a6-0ca4-453b-9a65-0664d55154ce"
      },
      "source": [
        "pca = PCA(n_components=0.9)\n",
        "\n",
        "reduced_data_red = pd.DataFrame(pca.fit_transform(scaled_red))\n",
        "reduced_data_red"
      ],
      "execution_count": 40,
      "outputs": [
        {
          "output_type": "execute_result",
          "data": {
            "text/html": [
              "<div>\n",
              "<style scoped>\n",
              "    .dataframe tbody tr th:only-of-type {\n",
              "        vertical-align: middle;\n",
              "    }\n",
              "\n",
              "    .dataframe tbody tr th {\n",
              "        vertical-align: top;\n",
              "    }\n",
              "\n",
              "    .dataframe thead th {\n",
              "        text-align: right;\n",
              "    }\n",
              "</style>\n",
              "<table border=\"1\" class=\"dataframe\">\n",
              "  <thead>\n",
              "    <tr style=\"text-align: right;\">\n",
              "      <th></th>\n",
              "      <th>0</th>\n",
              "      <th>1</th>\n",
              "      <th>2</th>\n",
              "      <th>3</th>\n",
              "      <th>4</th>\n",
              "      <th>5</th>\n",
              "      <th>6</th>\n",
              "      <th>7</th>\n",
              "    </tr>\n",
              "  </thead>\n",
              "  <tbody>\n",
              "    <tr>\n",
              "      <th>0</th>\n",
              "      <td>-1.779442</td>\n",
              "      <td>1.157303</td>\n",
              "      <td>-1.386581</td>\n",
              "      <td>-0.044944</td>\n",
              "      <td>0.233885</td>\n",
              "      <td>-0.976983</td>\n",
              "      <td>-0.110528</td>\n",
              "      <td>0.040320</td>\n",
              "    </tr>\n",
              "    <tr>\n",
              "      <th>1</th>\n",
              "      <td>-1.004185</td>\n",
              "      <td>2.071838</td>\n",
              "      <td>0.007759</td>\n",
              "      <td>0.466119</td>\n",
              "      <td>0.182454</td>\n",
              "      <td>0.657775</td>\n",
              "      <td>-1.376790</td>\n",
              "      <td>-0.176714</td>\n",
              "    </tr>\n",
              "    <tr>\n",
              "      <th>2</th>\n",
              "      <td>-0.915783</td>\n",
              "      <td>1.393434</td>\n",
              "      <td>-0.699286</td>\n",
              "      <td>0.345292</td>\n",
              "      <td>0.095210</td>\n",
              "      <td>0.254823</td>\n",
              "      <td>-0.720338</td>\n",
              "      <td>-0.088687</td>\n",
              "    </tr>\n",
              "    <tr>\n",
              "      <th>3</th>\n",
              "      <td>2.404077</td>\n",
              "      <td>-0.213792</td>\n",
              "      <td>0.066381</td>\n",
              "      <td>-0.889182</td>\n",
              "      <td>-1.524742</td>\n",
              "      <td>-0.132218</td>\n",
              "      <td>0.200660</td>\n",
              "      <td>-0.202816</td>\n",
              "    </tr>\n",
              "    <tr>\n",
              "      <th>4</th>\n",
              "      <td>-1.779442</td>\n",
              "      <td>1.157303</td>\n",
              "      <td>-1.386581</td>\n",
              "      <td>-0.044944</td>\n",
              "      <td>0.233885</td>\n",
              "      <td>-0.976983</td>\n",
              "      <td>-0.110528</td>\n",
              "      <td>0.040320</td>\n",
              "    </tr>\n",
              "    <tr>\n",
              "      <th>...</th>\n",
              "      <td>...</td>\n",
              "      <td>...</td>\n",
              "      <td>...</td>\n",
              "      <td>...</td>\n",
              "      <td>...</td>\n",
              "      <td>...</td>\n",
              "      <td>...</td>\n",
              "      <td>...</td>\n",
              "    </tr>\n",
              "    <tr>\n",
              "      <th>1594</th>\n",
              "      <td>-2.241991</td>\n",
              "      <td>0.599594</td>\n",
              "      <td>0.795827</td>\n",
              "      <td>0.441059</td>\n",
              "      <td>-0.312981</td>\n",
              "      <td>0.130820</td>\n",
              "      <td>0.291926</td>\n",
              "      <td>0.137412</td>\n",
              "    </tr>\n",
              "    <tr>\n",
              "      <th>1595</th>\n",
              "      <td>-2.122456</td>\n",
              "      <td>-0.370101</td>\n",
              "      <td>2.138539</td>\n",
              "      <td>0.454564</td>\n",
              "      <td>0.104124</td>\n",
              "      <td>-0.751228</td>\n",
              "      <td>-0.436849</td>\n",
              "      <td>0.181539</td>\n",
              "    </tr>\n",
              "    <tr>\n",
              "      <th>1596</th>\n",
              "      <td>-1.366265</td>\n",
              "      <td>-0.517561</td>\n",
              "      <td>1.250696</td>\n",
              "      <td>0.514505</td>\n",
              "      <td>0.195916</td>\n",
              "      <td>-0.552162</td>\n",
              "      <td>-0.196039</td>\n",
              "      <td>-0.121154</td>\n",
              "    </tr>\n",
              "    <tr>\n",
              "      <th>1597</th>\n",
              "      <td>-2.367147</td>\n",
              "      <td>0.703545</td>\n",
              "      <td>0.899482</td>\n",
              "      <td>0.661956</td>\n",
              "      <td>0.021380</td>\n",
              "      <td>-0.805753</td>\n",
              "      <td>0.126669</td>\n",
              "      <td>0.607400</td>\n",
              "    </tr>\n",
              "    <tr>\n",
              "      <th>1598</th>\n",
              "      <td>-0.288776</td>\n",
              "      <td>-1.240846</td>\n",
              "      <td>1.218095</td>\n",
              "      <td>-0.306325</td>\n",
              "      <td>0.231121</td>\n",
              "      <td>-0.202925</td>\n",
              "      <td>1.443414</td>\n",
              "      <td>-0.115422</td>\n",
              "    </tr>\n",
              "  </tbody>\n",
              "</table>\n",
              "<p>1599 rows × 8 columns</p>\n",
              "</div>"
            ],
            "text/plain": [
              "             0         1         2  ...         5         6         7\n",
              "0    -1.779442  1.157303 -1.386581  ... -0.976983 -0.110528  0.040320\n",
              "1    -1.004185  2.071838  0.007759  ...  0.657775 -1.376790 -0.176714\n",
              "2    -0.915783  1.393434 -0.699286  ...  0.254823 -0.720338 -0.088687\n",
              "3     2.404077 -0.213792  0.066381  ... -0.132218  0.200660 -0.202816\n",
              "4    -1.779442  1.157303 -1.386581  ... -0.976983 -0.110528  0.040320\n",
              "...        ...       ...       ...  ...       ...       ...       ...\n",
              "1594 -2.241991  0.599594  0.795827  ...  0.130820  0.291926  0.137412\n",
              "1595 -2.122456 -0.370101  2.138539  ... -0.751228 -0.436849  0.181539\n",
              "1596 -1.366265 -0.517561  1.250696  ... -0.552162 -0.196039 -0.121154\n",
              "1597 -2.367147  0.703545  0.899482  ... -0.805753  0.126669  0.607400\n",
              "1598 -0.288776 -1.240846  1.218095  ... -0.202925  1.443414 -0.115422\n",
              "\n",
              "[1599 rows x 8 columns]"
            ]
          },
          "metadata": {},
          "execution_count": 40
        }
      ]
    },
    {
      "cell_type": "markdown",
      "metadata": {
        "id": "M2E3Nn4MiS8l"
      },
      "source": [
        "## White wine\n"
      ]
    },
    {
      "cell_type": "code",
      "metadata": {
        "colab": {
          "base_uri": "https://localhost:8080/",
          "height": 419
        },
        "id": "DECQKwTyea30",
        "outputId": "35358363-c727-41a5-a9e4-7f821e3066e9"
      },
      "source": [
        "pca = PCA(n_components=0.9)\n",
        "\n",
        "reduced_data_white = pd.DataFrame(pca.fit_transform(scaled_white))\n",
        "reduced_data_white"
      ],
      "execution_count": 41,
      "outputs": [
        {
          "output_type": "execute_result",
          "data": {
            "text/html": [
              "<div>\n",
              "<style scoped>\n",
              "    .dataframe tbody tr th:only-of-type {\n",
              "        vertical-align: middle;\n",
              "    }\n",
              "\n",
              "    .dataframe tbody tr th {\n",
              "        vertical-align: top;\n",
              "    }\n",
              "\n",
              "    .dataframe thead th {\n",
              "        text-align: right;\n",
              "    }\n",
              "</style>\n",
              "<table border=\"1\" class=\"dataframe\">\n",
              "  <thead>\n",
              "    <tr style=\"text-align: right;\">\n",
              "      <th></th>\n",
              "      <th>0</th>\n",
              "      <th>1</th>\n",
              "      <th>2</th>\n",
              "      <th>3</th>\n",
              "      <th>4</th>\n",
              "      <th>5</th>\n",
              "      <th>6</th>\n",
              "      <th>7</th>\n",
              "      <th>8</th>\n",
              "    </tr>\n",
              "  </thead>\n",
              "  <tbody>\n",
              "    <tr>\n",
              "      <th>0</th>\n",
              "      <td>3.543318</td>\n",
              "      <td>-0.355087</td>\n",
              "      <td>-0.325833</td>\n",
              "      <td>-1.735411</td>\n",
              "      <td>-0.400868</td>\n",
              "      <td>-0.891770</td>\n",
              "      <td>0.936900</td>\n",
              "      <td>-0.069991</td>\n",
              "      <td>-0.593900</td>\n",
              "    </tr>\n",
              "    <tr>\n",
              "      <th>1</th>\n",
              "      <td>-0.612800</td>\n",
              "      <td>0.289411</td>\n",
              "      <td>0.816434</td>\n",
              "      <td>0.848734</td>\n",
              "      <td>-0.527425</td>\n",
              "      <td>-0.466481</td>\n",
              "      <td>0.215699</td>\n",
              "      <td>0.452790</td>\n",
              "      <td>0.310059</td>\n",
              "    </tr>\n",
              "    <tr>\n",
              "      <th>2</th>\n",
              "      <td>0.142394</td>\n",
              "      <td>-1.168021</td>\n",
              "      <td>-0.153068</td>\n",
              "      <td>0.190920</td>\n",
              "      <td>-0.306209</td>\n",
              "      <td>-0.493458</td>\n",
              "      <td>0.184178</td>\n",
              "      <td>0.566042</td>\n",
              "      <td>1.113311</td>\n",
              "    </tr>\n",
              "    <tr>\n",
              "      <th>3</th>\n",
              "      <td>1.379525</td>\n",
              "      <td>0.199587</td>\n",
              "      <td>-0.324497</td>\n",
              "      <td>-0.408824</td>\n",
              "      <td>-0.520039</td>\n",
              "      <td>0.768918</td>\n",
              "      <td>-0.084845</td>\n",
              "      <td>-0.167000</td>\n",
              "      <td>0.734498</td>\n",
              "    </tr>\n",
              "    <tr>\n",
              "      <th>4</th>\n",
              "      <td>1.379525</td>\n",
              "      <td>0.199587</td>\n",
              "      <td>-0.324497</td>\n",
              "      <td>-0.408824</td>\n",
              "      <td>-0.520039</td>\n",
              "      <td>0.768918</td>\n",
              "      <td>-0.084845</td>\n",
              "      <td>-0.167000</td>\n",
              "      <td>0.734498</td>\n",
              "    </tr>\n",
              "    <tr>\n",
              "      <th>...</th>\n",
              "      <td>...</td>\n",
              "      <td>...</td>\n",
              "      <td>...</td>\n",
              "      <td>...</td>\n",
              "      <td>...</td>\n",
              "      <td>...</td>\n",
              "      <td>...</td>\n",
              "      <td>...</td>\n",
              "      <td>...</td>\n",
              "    </tr>\n",
              "    <tr>\n",
              "      <th>4893</th>\n",
              "      <td>-2.075943</td>\n",
              "      <td>0.322175</td>\n",
              "      <td>0.108275</td>\n",
              "      <td>0.443837</td>\n",
              "      <td>-0.755969</td>\n",
              "      <td>-0.280647</td>\n",
              "      <td>-0.163147</td>\n",
              "      <td>-0.073721</td>\n",
              "      <td>-0.261058</td>\n",
              "    </tr>\n",
              "    <tr>\n",
              "      <th>4894</th>\n",
              "      <td>1.479426</td>\n",
              "      <td>0.406234</td>\n",
              "      <td>0.353999</td>\n",
              "      <td>-0.144866</td>\n",
              "      <td>0.163807</td>\n",
              "      <td>0.828166</td>\n",
              "      <td>-0.712011</td>\n",
              "      <td>0.201921</td>\n",
              "      <td>-0.603735</td>\n",
              "    </tr>\n",
              "    <tr>\n",
              "      <th>4895</th>\n",
              "      <td>-0.751632</td>\n",
              "      <td>-0.511206</td>\n",
              "      <td>0.615696</td>\n",
              "      <td>-0.250844</td>\n",
              "      <td>-0.807127</td>\n",
              "      <td>0.138658</td>\n",
              "      <td>-0.380348</td>\n",
              "      <td>-1.560692</td>\n",
              "      <td>-0.551499</td>\n",
              "    </tr>\n",
              "    <tr>\n",
              "      <th>4896</th>\n",
              "      <td>-3.622997</td>\n",
              "      <td>0.939777</td>\n",
              "      <td>0.002756</td>\n",
              "      <td>-0.845937</td>\n",
              "      <td>-0.186136</td>\n",
              "      <td>0.491603</td>\n",
              "      <td>0.316834</td>\n",
              "      <td>0.909011</td>\n",
              "      <td>-0.093869</td>\n",
              "    </tr>\n",
              "    <tr>\n",
              "      <th>4897</th>\n",
              "      <td>-2.795046</td>\n",
              "      <td>-0.184072</td>\n",
              "      <td>-0.079208</td>\n",
              "      <td>-0.520190</td>\n",
              "      <td>-1.098959</td>\n",
              "      <td>0.537630</td>\n",
              "      <td>-0.645498</td>\n",
              "      <td>1.143024</td>\n",
              "      <td>-0.427019</td>\n",
              "    </tr>\n",
              "  </tbody>\n",
              "</table>\n",
              "<p>4898 rows × 9 columns</p>\n",
              "</div>"
            ],
            "text/plain": [
              "             0         1         2  ...         6         7         8\n",
              "0     3.543318 -0.355087 -0.325833  ...  0.936900 -0.069991 -0.593900\n",
              "1    -0.612800  0.289411  0.816434  ...  0.215699  0.452790  0.310059\n",
              "2     0.142394 -1.168021 -0.153068  ...  0.184178  0.566042  1.113311\n",
              "3     1.379525  0.199587 -0.324497  ... -0.084845 -0.167000  0.734498\n",
              "4     1.379525  0.199587 -0.324497  ... -0.084845 -0.167000  0.734498\n",
              "...        ...       ...       ...  ...       ...       ...       ...\n",
              "4893 -2.075943  0.322175  0.108275  ... -0.163147 -0.073721 -0.261058\n",
              "4894  1.479426  0.406234  0.353999  ... -0.712011  0.201921 -0.603735\n",
              "4895 -0.751632 -0.511206  0.615696  ... -0.380348 -1.560692 -0.551499\n",
              "4896 -3.622997  0.939777  0.002756  ...  0.316834  0.909011 -0.093869\n",
              "4897 -2.795046 -0.184072 -0.079208  ... -0.645498  1.143024 -0.427019\n",
              "\n",
              "[4898 rows x 9 columns]"
            ]
          },
          "metadata": {},
          "execution_count": 41
        }
      ]
    },
    {
      "cell_type": "markdown",
      "metadata": {
        "id": "OnyRz9q7ifEc"
      },
      "source": [
        "### Choosing number of clusters"
      ]
    },
    {
      "cell_type": "markdown",
      "metadata": {
        "id": "GqAYTNKkio5z"
      },
      "source": [
        "## Red wine"
      ]
    },
    {
      "cell_type": "code",
      "metadata": {
        "id": "Cr6HY6HGijoS"
      },
      "source": [
        "max_clusters = 12\n",
        "kmeans_tests = [KMeans(n_clusters=i, init='k-means++',random_state=40) for i in range(1, max_clusters)]\n",
        "inertias_red = [kmeans_tests[i].fit(reduced_data_red).inertia_ for i in range(len(kmeans_tests))]"
      ],
      "execution_count": 47,
      "outputs": []
    },
    {
      "cell_type": "code",
      "metadata": {
        "colab": {
          "base_uri": "https://localhost:8080/",
          "height": 350
        },
        "id": "6RzfO4Jwitli",
        "outputId": "d9c05b19-d9aa-46a5-8cae-436cb03263b9"
      },
      "source": [
        "plt.figure(figsize=(7, 5))\n",
        "plt.plot(range(1, max_clusters), inertias_red)\n",
        "plt.xlabel(\"Number of Clusters - Red Wine\")\n",
        "plt.ylabel(\"Inertia\")\n",
        "plt.title(\"Choosing the Number of Clusters\")\n",
        "plt.show()"
      ],
      "execution_count": 48,
      "outputs": [
        {
          "output_type": "display_data",
          "data": {
            "image/png": "[encoded data removed]",
            "text/plain": [
              "<Figure size 504x360 with 1 Axes>"
            ]
          },
          "metadata": {
            "needs_background": "light"
          }
        }
      ]
    },
    {
      "cell_type": "markdown",
      "metadata": {
        "id": "DFoMlJ0VjkGZ"
      },
      "source": [
        "## White wine"
      ]
    },
    {
      "cell_type": "code",
      "metadata": {
        "id": "pc14_AELjNVo"
      },
      "source": [
        "max_clusters = 12\n",
        "kmeans_tests = [KMeans(n_clusters=i, init='k-means++',random_state=40) for i in range(1, max_clusters)]\n",
        "inertias_white = [kmeans_tests[i].fit(reduced_data_white).inertia_ for i in range(len(kmeans_tests))]"
      ],
      "execution_count": 50,
      "outputs": []
    },
    {
      "cell_type": "code",
      "metadata": {
        "colab": {
          "base_uri": "https://localhost:8080/",
          "height": 350
        },
        "id": "JbQWWxn_jUsR",
        "outputId": "4e2babfb-e787-47be-ef5f-6b05ec7def1a"
      },
      "source": [
        "plt.figure(figsize=(7, 5))\n",
        "plt.plot(range(1, max_clusters), inertias_white)\n",
        "plt.xlabel(\"Number of Clusters - White Wine\")\n",
        "plt.ylabel(\"Inertia\")\n",
        "plt.title(\"Choosing the Number of Clusters\")\n",
        "plt.show()"
      ],
      "execution_count": 52,
      "outputs": [
        {
          "output_type": "display_data",
          "data": {
            "image/png": "[encoded data removed]",
            "text/plain": [
              "<Figure size 504x360 with 1 Axes>"
            ]
          },
          "metadata": {
            "needs_background": "light"
          }
        }
      ]
    },
    {
      "cell_type": "markdown",
      "metadata": {
        "id": "oxuWhHJHkBPn"
      },
      "source": [
        "## Finally, let's predict and assign wines to their clusters."
      ]
    },
    {
      "cell_type": "markdown",
      "metadata": {
        "id": "7-VtwU7tkHMg"
      },
      "source": [
        "## Red wine"
      ]
    },
    {
      "cell_type": "code",
      "metadata": {
        "colab": {
          "base_uri": "https://localhost:8080/"
        },
        "id": "-_Y7v0WlkIPt",
        "outputId": "596c0443-2ab4-4c97-dcdc-9a50cabcc7e1"
      },
      "source": [
        "kmeans = KMeans(n_clusters=4, init = 'k-means++', random_state = 50)\n",
        "kmeans.fit(reduced_data_red)"
      ],
      "execution_count": 54,
      "outputs": [
        {
          "output_type": "execute_result",
          "data": {
            "text/plain": [
              "KMeans(algorithm='auto', copy_x=True, init='k-means++', max_iter=300,\n",
              "       n_clusters=4, n_init=10, n_jobs=None, precompute_distances='auto',\n",
              "       random_state=50, tol=0.0001, verbose=0)"
            ]
          },
          "metadata": {},
          "execution_count": 54
        }
      ]
    },
    {
      "cell_type": "code",
      "metadata": {
        "colab": {
          "base_uri": "https://localhost:8080/"
        },
        "id": "wNDnKUW0jWYB",
        "outputId": "194ef172-afec-490e-dea4-ad0a5c512039"
      },
      "source": [
        "clusters_r = kmeans.predict(reduced_data_red)\n",
        "clusters_r"
      ],
      "execution_count": 55,
      "outputs": [
        {
          "output_type": "execute_result",
          "data": {
            "text/plain": [
              "array([3, 3, 3, ..., 0, 3, 0], dtype=int32)"
            ]
          },
          "metadata": {},
          "execution_count": 55
        }
      ]
    },
    {
      "cell_type": "code",
      "metadata": {
        "colab": {
          "base_uri": "https://localhost:8080/"
        },
        "id": "oQrXXuQfkdi5",
        "outputId": "463b68f4-6953-4f0e-e901-277307c7a5d6"
      },
      "source": [
        "kmeans.cluster_centers_"
      ],
      "execution_count": 56,
      "outputs": [
        {
          "output_type": "execute_result",
          "data": {
            "text/plain": [
              "array([[-0.93020451, -1.75031907,  0.85350007,  0.12908481,  0.06524501,\n",
              "         0.15171234,  0.0079017 ,  0.04153604],\n",
              "       [ 0.22711483,  1.53940033,  1.15625315, -0.33780895, -0.34430241,\n",
              "        -0.007593  ,  0.07645974, -0.01945839],\n",
              "       [ 2.35425616, -0.54939187, -0.45167556,  0.07338557,  0.08468433,\n",
              "         0.01427563, -0.039613  ,  0.15183792],\n",
              "       [-1.14448522,  0.47802107, -0.90052045,  0.07753858,  0.11179711,\n",
              "        -0.09484555, -0.02431681, -0.11354253]])"
            ]
          },
          "metadata": {},
          "execution_count": 56
        }
      ]
    },
    {
      "cell_type": "code",
      "metadata": {
        "colab": {
          "base_uri": "https://localhost:8080/",
          "height": 419
        },
        "id": "IdB5Fh-tkfum",
        "outputId": "3e28215f-ba9a-49d4-ab4b-34ad30915ee4"
      },
      "source": [
        "reduced_data_red['cluster'] = clusters_r\n",
        "reduced_data_red"
      ],
      "execution_count": 64,
      "outputs": [
        {
          "output_type": "execute_result",
          "data": {
            "text/html": [
              "<div>\n",
              "<style scoped>\n",
              "    .dataframe tbody tr th:only-of-type {\n",
              "        vertical-align: middle;\n",
              "    }\n",
              "\n",
              "    .dataframe tbody tr th {\n",
              "        vertical-align: top;\n",
              "    }\n",
              "\n",
              "    .dataframe thead th {\n",
              "        text-align: right;\n",
              "    }\n",
              "</style>\n",
              "<table border=\"1\" class=\"dataframe\">\n",
              "  <thead>\n",
              "    <tr style=\"text-align: right;\">\n",
              "      <th></th>\n",
              "      <th>0</th>\n",
              "      <th>1</th>\n",
              "      <th>2</th>\n",
              "      <th>3</th>\n",
              "      <th>4</th>\n",
              "      <th>5</th>\n",
              "      <th>6</th>\n",
              "      <th>7</th>\n",
              "      <th>cluster</th>\n",
              "    </tr>\n",
              "  </thead>\n",
              "  <tbody>\n",
              "    <tr>\n",
              "      <th>0</th>\n",
              "      <td>-1.779442</td>\n",
              "      <td>1.157303</td>\n",
              "      <td>-1.386581</td>\n",
              "      <td>-0.044944</td>\n",
              "      <td>0.233885</td>\n",
              "      <td>-0.976983</td>\n",
              "      <td>-0.110528</td>\n",
              "      <td>0.040320</td>\n",
              "      <td>3</td>\n",
              "    </tr>\n",
              "    <tr>\n",
              "      <th>1</th>\n",
              "      <td>-1.004185</td>\n",
              "      <td>2.071838</td>\n",
              "      <td>0.007759</td>\n",
              "      <td>0.466119</td>\n",
              "      <td>0.182454</td>\n",
              "      <td>0.657775</td>\n",
              "      <td>-1.376790</td>\n",
              "      <td>-0.176714</td>\n",
              "      <td>3</td>\n",
              "    </tr>\n",
              "    <tr>\n",
              "      <th>2</th>\n",
              "      <td>-0.915783</td>\n",
              "      <td>1.393434</td>\n",
              "      <td>-0.699286</td>\n",
              "      <td>0.345292</td>\n",
              "      <td>0.095210</td>\n",
              "      <td>0.254823</td>\n",
              "      <td>-0.720338</td>\n",
              "      <td>-0.088687</td>\n",
              "      <td>3</td>\n",
              "    </tr>\n",
              "    <tr>\n",
              "      <th>3</th>\n",
              "      <td>2.404077</td>\n",
              "      <td>-0.213792</td>\n",
              "      <td>0.066381</td>\n",
              "      <td>-0.889182</td>\n",
              "      <td>-1.524742</td>\n",
              "      <td>-0.132218</td>\n",
              "      <td>0.200660</td>\n",
              "      <td>-0.202816</td>\n",
              "      <td>2</td>\n",
              "    </tr>\n",
              "    <tr>\n",
              "      <th>4</th>\n",
              "      <td>-1.779442</td>\n",
              "      <td>1.157303</td>\n",
              "      <td>-1.386581</td>\n",
              "      <td>-0.044944</td>\n",
              "      <td>0.233885</td>\n",
              "      <td>-0.976983</td>\n",
              "      <td>-0.110528</td>\n",
              "      <td>0.040320</td>\n",
              "      <td>3</td>\n",
              "    </tr>\n",
              "    <tr>\n",
              "      <th>...</th>\n",
              "      <td>...</td>\n",
              "      <td>...</td>\n",
              "      <td>...</td>\n",
              "      <td>...</td>\n",
              "      <td>...</td>\n",
              "      <td>...</td>\n",
              "      <td>...</td>\n",
              "      <td>...</td>\n",
              "      <td>...</td>\n",
              "    </tr>\n",
              "    <tr>\n",
              "      <th>1594</th>\n",
              "      <td>-2.241991</td>\n",
              "      <td>0.599594</td>\n",
              "      <td>0.795827</td>\n",
              "      <td>0.441059</td>\n",
              "      <td>-0.312981</td>\n",
              "      <td>0.130820</td>\n",
              "      <td>0.291926</td>\n",
              "      <td>0.137412</td>\n",
              "      <td>3</td>\n",
              "    </tr>\n",
              "    <tr>\n",
              "      <th>1595</th>\n",
              "      <td>-2.122456</td>\n",
              "      <td>-0.370101</td>\n",
              "      <td>2.138539</td>\n",
              "      <td>0.454564</td>\n",
              "      <td>0.104124</td>\n",
              "      <td>-0.751228</td>\n",
              "      <td>-0.436849</td>\n",
              "      <td>0.181539</td>\n",
              "      <td>0</td>\n",
              "    </tr>\n",
              "    <tr>\n",
              "      <th>1596</th>\n",
              "      <td>-1.366265</td>\n",
              "      <td>-0.517561</td>\n",
              "      <td>1.250696</td>\n",
              "      <td>0.514505</td>\n",
              "      <td>0.195916</td>\n",
              "      <td>-0.552162</td>\n",
              "      <td>-0.196039</td>\n",
              "      <td>-0.121154</td>\n",
              "      <td>0</td>\n",
              "    </tr>\n",
              "    <tr>\n",
              "      <th>1597</th>\n",
              "      <td>-2.367147</td>\n",
              "      <td>0.703545</td>\n",
              "      <td>0.899482</td>\n",
              "      <td>0.661956</td>\n",
              "      <td>0.021380</td>\n",
              "      <td>-0.805753</td>\n",
              "      <td>0.126669</td>\n",
              "      <td>0.607400</td>\n",
              "      <td>3</td>\n",
              "    </tr>\n",
              "    <tr>\n",
              "      <th>1598</th>\n",
              "      <td>-0.288776</td>\n",
              "      <td>-1.240846</td>\n",
              "      <td>1.218095</td>\n",
              "      <td>-0.306325</td>\n",
              "      <td>0.231121</td>\n",
              "      <td>-0.202925</td>\n",
              "      <td>1.443414</td>\n",
              "      <td>-0.115422</td>\n",
              "      <td>0</td>\n",
              "    </tr>\n",
              "  </tbody>\n",
              "</table>\n",
              "<p>1599 rows × 9 columns</p>\n",
              "</div>"
            ],
            "text/plain": [
              "             0         1         2  ...         6         7  cluster\n",
              "0    -1.779442  1.157303 -1.386581  ... -0.110528  0.040320        3\n",
              "1    -1.004185  2.071838  0.007759  ... -1.376790 -0.176714        3\n",
              "2    -0.915783  1.393434 -0.699286  ... -0.720338 -0.088687        3\n",
              "3     2.404077 -0.213792  0.066381  ...  0.200660 -0.202816        2\n",
              "4    -1.779442  1.157303 -1.386581  ... -0.110528  0.040320        3\n",
              "...        ...       ...       ...  ...       ...       ...      ...\n",
              "1594 -2.241991  0.599594  0.795827  ...  0.291926  0.137412        3\n",
              "1595 -2.122456 -0.370101  2.138539  ... -0.436849  0.181539        0\n",
              "1596 -1.366265 -0.517561  1.250696  ... -0.196039 -0.121154        0\n",
              "1597 -2.367147  0.703545  0.899482  ...  0.126669  0.607400        3\n",
              "1598 -0.288776 -1.240846  1.218095  ...  1.443414 -0.115422        0\n",
              "\n",
              "[1599 rows x 9 columns]"
            ]
          },
          "metadata": {},
          "execution_count": 64
        }
      ]
    },
    {
      "cell_type": "markdown",
      "metadata": {
        "id": "RedFnIOkl5Zr"
      },
      "source": [
        "## White wine"
      ]
    },
    {
      "cell_type": "code",
      "metadata": {
        "colab": {
          "base_uri": "https://localhost:8080/"
        },
        "id": "W8EmBK2UlcZK",
        "outputId": "66b47cea-c005-43a5-b120-79ccef52f0f4"
      },
      "source": [
        "kmeans.fit(reduced_data_white)"
      ],
      "execution_count": 66,
      "outputs": [
        {
          "output_type": "execute_result",
          "data": {
            "text/plain": [
              "KMeans(algorithm='auto', copy_x=True, init='k-means++', max_iter=300,\n",
              "       n_clusters=4, n_init=10, n_jobs=None, precompute_distances='auto',\n",
              "       random_state=50, tol=0.0001, verbose=0)"
            ]
          },
          "metadata": {},
          "execution_count": 66
        }
      ]
    },
    {
      "cell_type": "code",
      "metadata": {
        "colab": {
          "base_uri": "https://localhost:8080/"
        },
        "id": "CIhYEbW1l8C_",
        "outputId": "4b44d58b-957a-4800-f01c-c60010189f61"
      },
      "source": [
        "clusters_w = kmeans.predict(reduced_data_white)\n",
        "clusters_w"
      ],
      "execution_count": 67,
      "outputs": [
        {
          "output_type": "execute_result",
          "data": {
            "text/plain": [
              "array([2, 0, 0, ..., 0, 1, 1], dtype=int32)"
            ]
          },
          "metadata": {},
          "execution_count": 67
        }
      ]
    },
    {
      "cell_type": "code",
      "metadata": {
        "colab": {
          "base_uri": "https://localhost:8080/"
        },
        "id": "GYBHVKg3mCxZ",
        "outputId": "55a72dd6-3a51-4828-a265-28988e838b12"
      },
      "source": [
        "kmeans.cluster_centers_"
      ],
      "execution_count": 68,
      "outputs": [
        {
          "output_type": "execute_result",
          "data": {
            "text/plain": [
              "array([[-5.35361008e-01, -1.10701944e+00,  4.66723062e-01,\n",
              "         1.24936276e-01, -6.68746192e-02, -7.39069698e-02,\n",
              "        -3.90886711e-01, -9.17383801e-02,  1.13090382e-01],\n",
              "       [-1.64759301e+00,  6.35967069e-01, -3.10790616e-01,\n",
              "        -1.78781073e-03,  7.52903713e-02,  9.54409455e-03,\n",
              "         1.75792383e-01,  5.90920890e-02,  1.25142196e-03],\n",
              "       [ 1.96185556e+00,  2.90490275e-01, -1.37833907e-01,\n",
              "        -2.86573206e-01,  3.40786215e-02, -1.19567160e-01,\n",
              "        -3.03183690e-02,  5.68044787e-02, -1.11707021e-01],\n",
              "       [ 1.83232872e+00, -6.85551079e-01,  1.23529399e+00,\n",
              "         3.07664580e+00, -9.12279192e-01,  2.75794085e+00,\n",
              "         2.72106502e+00, -6.94986899e-01,  3.28609997e-01]])"
            ]
          },
          "metadata": {},
          "execution_count": 68
        }
      ]
    },
    {
      "cell_type": "code",
      "metadata": {
        "colab": {
          "base_uri": "https://localhost:8080/",
          "height": 419
        },
        "id": "GBQmC3VomEcv",
        "outputId": "dda1c1af-3933-4720-c9cd-8d9c61ee75d1"
      },
      "source": [
        "reduced_data_white['cluster'] = clusters_w\n",
        "reduced_data_white"
      ],
      "execution_count": 70,
      "outputs": [
        {
          "output_type": "execute_result",
          "data": {
            "text/html": [
              "<div>\n",
              "<style scoped>\n",
              "    .dataframe tbody tr th:only-of-type {\n",
              "        vertical-align: middle;\n",
              "    }\n",
              "\n",
              "    .dataframe tbody tr th {\n",
              "        vertical-align: top;\n",
              "    }\n",
              "\n",
              "    .dataframe thead th {\n",
              "        text-align: right;\n",
              "    }\n",
              "</style>\n",
              "<table border=\"1\" class=\"dataframe\">\n",
              "  <thead>\n",
              "    <tr style=\"text-align: right;\">\n",
              "      <th></th>\n",
              "      <th>0</th>\n",
              "      <th>1</th>\n",
              "      <th>2</th>\n",
              "      <th>3</th>\n",
              "      <th>4</th>\n",
              "      <th>5</th>\n",
              "      <th>6</th>\n",
              "      <th>7</th>\n",
              "      <th>8</th>\n",
              "      <th>cluster</th>\n",
              "    </tr>\n",
              "  </thead>\n",
              "  <tbody>\n",
              "    <tr>\n",
              "      <th>0</th>\n",
              "      <td>3.543318</td>\n",
              "      <td>-0.355087</td>\n",
              "      <td>-0.325833</td>\n",
              "      <td>-1.735411</td>\n",
              "      <td>-0.400868</td>\n",
              "      <td>-0.891770</td>\n",
              "      <td>0.936900</td>\n",
              "      <td>-0.069991</td>\n",
              "      <td>-0.593900</td>\n",
              "      <td>2</td>\n",
              "    </tr>\n",
              "    <tr>\n",
              "      <th>1</th>\n",
              "      <td>-0.612800</td>\n",
              "      <td>0.289411</td>\n",
              "      <td>0.816434</td>\n",
              "      <td>0.848734</td>\n",
              "      <td>-0.527425</td>\n",
              "      <td>-0.466481</td>\n",
              "      <td>0.215699</td>\n",
              "      <td>0.452790</td>\n",
              "      <td>0.310059</td>\n",
              "      <td>0</td>\n",
              "    </tr>\n",
              "    <tr>\n",
              "      <th>2</th>\n",
              "      <td>0.142394</td>\n",
              "      <td>-1.168021</td>\n",
              "      <td>-0.153068</td>\n",
              "      <td>0.190920</td>\n",
              "      <td>-0.306209</td>\n",
              "      <td>-0.493458</td>\n",
              "      <td>0.184178</td>\n",
              "      <td>0.566042</td>\n",
              "      <td>1.113311</td>\n",
              "      <td>0</td>\n",
              "    </tr>\n",
              "    <tr>\n",
              "      <th>3</th>\n",
              "      <td>1.379525</td>\n",
              "      <td>0.199587</td>\n",
              "      <td>-0.324497</td>\n",
              "      <td>-0.408824</td>\n",
              "      <td>-0.520039</td>\n",
              "      <td>0.768918</td>\n",
              "      <td>-0.084845</td>\n",
              "      <td>-0.167000</td>\n",
              "      <td>0.734498</td>\n",
              "      <td>2</td>\n",
              "    </tr>\n",
              "    <tr>\n",
              "      <th>4</th>\n",
              "      <td>1.379525</td>\n",
              "      <td>0.199587</td>\n",
              "      <td>-0.324497</td>\n",
              "      <td>-0.408824</td>\n",
              "      <td>-0.520039</td>\n",
              "      <td>0.768918</td>\n",
              "      <td>-0.084845</td>\n",
              "      <td>-0.167000</td>\n",
              "      <td>0.734498</td>\n",
              "      <td>2</td>\n",
              "    </tr>\n",
              "    <tr>\n",
              "      <th>...</th>\n",
              "      <td>...</td>\n",
              "      <td>...</td>\n",
              "      <td>...</td>\n",
              "      <td>...</td>\n",
              "      <td>...</td>\n",
              "      <td>...</td>\n",
              "      <td>...</td>\n",
              "      <td>...</td>\n",
              "      <td>...</td>\n",
              "      <td>...</td>\n",
              "    </tr>\n",
              "    <tr>\n",
              "      <th>4893</th>\n",
              "      <td>-2.075943</td>\n",
              "      <td>0.322175</td>\n",
              "      <td>0.108275</td>\n",
              "      <td>0.443837</td>\n",
              "      <td>-0.755969</td>\n",
              "      <td>-0.280647</td>\n",
              "      <td>-0.163147</td>\n",
              "      <td>-0.073721</td>\n",
              "      <td>-0.261058</td>\n",
              "      <td>1</td>\n",
              "    </tr>\n",
              "    <tr>\n",
              "      <th>4894</th>\n",
              "      <td>1.479426</td>\n",
              "      <td>0.406234</td>\n",
              "      <td>0.353999</td>\n",
              "      <td>-0.144866</td>\n",
              "      <td>0.163807</td>\n",
              "      <td>0.828166</td>\n",
              "      <td>-0.712011</td>\n",
              "      <td>0.201921</td>\n",
              "      <td>-0.603735</td>\n",
              "      <td>2</td>\n",
              "    </tr>\n",
              "    <tr>\n",
              "      <th>4895</th>\n",
              "      <td>-0.751632</td>\n",
              "      <td>-0.511206</td>\n",
              "      <td>0.615696</td>\n",
              "      <td>-0.250844</td>\n",
              "      <td>-0.807127</td>\n",
              "      <td>0.138658</td>\n",
              "      <td>-0.380348</td>\n",
              "      <td>-1.560692</td>\n",
              "      <td>-0.551499</td>\n",
              "      <td>0</td>\n",
              "    </tr>\n",
              "    <tr>\n",
              "      <th>4896</th>\n",
              "      <td>-3.622997</td>\n",
              "      <td>0.939777</td>\n",
              "      <td>0.002756</td>\n",
              "      <td>-0.845937</td>\n",
              "      <td>-0.186136</td>\n",
              "      <td>0.491603</td>\n",
              "      <td>0.316834</td>\n",
              "      <td>0.909011</td>\n",
              "      <td>-0.093869</td>\n",
              "      <td>1</td>\n",
              "    </tr>\n",
              "    <tr>\n",
              "      <th>4897</th>\n",
              "      <td>-2.795046</td>\n",
              "      <td>-0.184072</td>\n",
              "      <td>-0.079208</td>\n",
              "      <td>-0.520190</td>\n",
              "      <td>-1.098959</td>\n",
              "      <td>0.537630</td>\n",
              "      <td>-0.645498</td>\n",
              "      <td>1.143024</td>\n",
              "      <td>-0.427019</td>\n",
              "      <td>1</td>\n",
              "    </tr>\n",
              "  </tbody>\n",
              "</table>\n",
              "<p>4898 rows × 10 columns</p>\n",
              "</div>"
            ],
            "text/plain": [
              "             0         1         2  ...         7         8  cluster\n",
              "0     3.543318 -0.355087 -0.325833  ... -0.069991 -0.593900        2\n",
              "1    -0.612800  0.289411  0.816434  ...  0.452790  0.310059        0\n",
              "2     0.142394 -1.168021 -0.153068  ...  0.566042  1.113311        0\n",
              "3     1.379525  0.199587 -0.324497  ... -0.167000  0.734498        2\n",
              "4     1.379525  0.199587 -0.324497  ... -0.167000  0.734498        2\n",
              "...        ...       ...       ...  ...       ...       ...      ...\n",
              "4893 -2.075943  0.322175  0.108275  ... -0.073721 -0.261058        1\n",
              "4894  1.479426  0.406234  0.353999  ...  0.201921 -0.603735        2\n",
              "4895 -0.751632 -0.511206  0.615696  ... -1.560692 -0.551499        0\n",
              "4896 -3.622997  0.939777  0.002756  ...  0.909011 -0.093869        1\n",
              "4897 -2.795046 -0.184072 -0.079208  ...  1.143024 -0.427019        1\n",
              "\n",
              "[4898 rows x 10 columns]"
            ]
          },
          "metadata": {},
          "execution_count": 70
        }
      ]
    }
  ]
}